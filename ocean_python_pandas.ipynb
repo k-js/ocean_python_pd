{
  "nbformat": 4,
  "nbformat_minor": 0,
  "metadata": {
    "colab": {
      "name": "ocean_python_pandas.ipynb",
      "provenance": [],
      "collapsed_sections": [],
      "authorship_tag": "ABX9TyPMEJr3qzTHMeF0xZALmDeB",
      "include_colab_link": true
    },
    "kernelspec": {
      "name": "python3",
      "display_name": "Python 3"
    }
  },
  "cells": [
    {
      "cell_type": "markdown",
      "metadata": {
        "id": "view-in-github",
        "colab_type": "text"
      },
      "source": [
        "<a href=\"https://colab.research.google.com/github/k-js/ocean_python_pd/blob/master/ocean_python_pandas.ipynb\" target=\"_parent\"><img src=\"https://colab.research.google.com/assets/colab-badge.svg\" alt=\"Open In Colab\"/></a>"
      ]
    },
    {
      "cell_type": "markdown",
      "metadata": {
        "id": "CKfEkICaXBTl",
        "colab_type": "text"
      },
      "source": [
        "# Laboratório  de Ciências de Dados com Pandas \n"
      ]
    },
    {
      "cell_type": "code",
      "metadata": {
        "id": "udckA7PrioD1",
        "colab_type": "code",
        "colab": {}
      },
      "source": [
        "import pandas as pd"
      ],
      "execution_count": 99,
      "outputs": []
    },
    {
      "cell_type": "code",
      "metadata": {
        "id": "mLsYvnZ7itjA",
        "colab_type": "code",
        "colab": {}
      },
      "source": [
        "s = pd.Series([1,2,3,4,5,6,])"
      ],
      "execution_count": 100,
      "outputs": []
    },
    {
      "cell_type": "code",
      "metadata": {
        "id": "yvVgutaVk6_T",
        "colab_type": "code",
        "colab": {
          "base_uri": "https://localhost:8080/",
          "height": 35
        },
        "outputId": "ca1759fb-3503-4225-a111-e97d00fa813a"
      },
      "source": [
        "type (s)"
      ],
      "execution_count": 101,
      "outputs": [
        {
          "output_type": "execute_result",
          "data": {
            "text/plain": [
              "pandas.core.series.Series"
            ]
          },
          "metadata": {
            "tags": []
          },
          "execution_count": 101
        }
      ]
    },
    {
      "cell_type": "code",
      "metadata": {
        "id": "9Iu4z7HXlM8t",
        "colab_type": "code",
        "colab": {
          "base_uri": "https://localhost:8080/",
          "height": 146
        },
        "outputId": "005b4c74-b44d-4bc9-ab41-f4582f45d639"
      },
      "source": [
        "print(s)"
      ],
      "execution_count": 102,
      "outputs": [
        {
          "output_type": "stream",
          "text": [
            "0    1\n",
            "1    2\n",
            "2    3\n",
            "3    4\n",
            "4    5\n",
            "5    6\n",
            "dtype: int64\n"
          ],
          "name": "stdout"
        }
      ]
    },
    {
      "cell_type": "code",
      "metadata": {
        "id": "IiOwsef4lNCa",
        "colab_type": "code",
        "colab": {
          "base_uri": "https://localhost:8080/",
          "height": 146
        },
        "outputId": "d1156b18-7c1a-4c9d-8a08-547b932d697e"
      },
      "source": [
        "s.describe"
      ],
      "execution_count": 103,
      "outputs": [
        {
          "output_type": "execute_result",
          "data": {
            "text/plain": [
              "<bound method NDFrame.describe of 0    1\n",
              "1    2\n",
              "2    3\n",
              "3    4\n",
              "4    5\n",
              "5    6\n",
              "dtype: int64>"
            ]
          },
          "metadata": {
            "tags": []
          },
          "execution_count": 103
        }
      ]
    },
    {
      "cell_type": "code",
      "metadata": {
        "id": "bz4uCW1qofL9",
        "colab_type": "code",
        "colab": {
          "base_uri": "https://localhost:8080/",
          "height": 35
        },
        "outputId": "fecf74bc-e319-4f95-b172-97766bdb6898"
      },
      "source": [
        "s.std()"
      ],
      "execution_count": 104,
      "outputs": [
        {
          "output_type": "execute_result",
          "data": {
            "text/plain": [
              "1.8708286933869707"
            ]
          },
          "metadata": {
            "tags": []
          },
          "execution_count": 104
        }
      ]
    },
    {
      "cell_type": "code",
      "metadata": {
        "id": "u_WKHytSoxf2",
        "colab_type": "code",
        "colab": {}
      },
      "source": [
        "bolo = {\"sabor\": [\"chocolate\", \"cenoura\", \"chocolate\", \"fuba\"], \n",
        "        \"preço_kg\": [15,21.5,15,12],\n",
        "        \"Qtd\":[1, 2, 3, 1]}"
      ],
      "execution_count": 105,
      "outputs": []
    },
    {
      "cell_type": "code",
      "metadata": {
        "id": "AQXZpm1Goxcx",
        "colab_type": "code",
        "colab": {}
      },
      "source": [
        "bolo_df = pd.DataFrame(bolo)"
      ],
      "execution_count": 106,
      "outputs": []
    },
    {
      "cell_type": "code",
      "metadata": {
        "id": "Ie10P8FPqO7u",
        "colab_type": "code",
        "colab": {}
      },
      "source": [
        "covid = pd.read_csv(\"https://raw.githubusercontent.com/feulo-ocean/lab_pandas/master/twitter-covid.csv\")"
      ],
      "execution_count": 107,
      "outputs": []
    },
    {
      "cell_type": "code",
      "metadata": {
        "id": "IxQPb7RxqcdS",
        "colab_type": "code",
        "colab": {
          "base_uri": "https://localhost:8080/",
          "height": 112
        },
        "outputId": "8980f8a5-6949-4dbd-fdce-8c4db0305552"
      },
      "source": [
        "covid.head(2)"
      ],
      "execution_count": 108,
      "outputs": [
        {
          "output_type": "execute_result",
          "data": {
            "text/html": [
              "<div>\n",
              "<style scoped>\n",
              "    .dataframe tbody tr th:only-of-type {\n",
              "        vertical-align: middle;\n",
              "    }\n",
              "\n",
              "    .dataframe tbody tr th {\n",
              "        vertical-align: top;\n",
              "    }\n",
              "\n",
              "    .dataframe thead th {\n",
              "        text-align: right;\n",
              "    }\n",
              "</style>\n",
              "<table border=\"1\" class=\"dataframe\">\n",
              "  <thead>\n",
              "    <tr style=\"text-align: right;\">\n",
              "      <th></th>\n",
              "      <th>data</th>\n",
              "      <th>texto</th>\n",
              "      <th>retweet</th>\n",
              "      <th>idioma</th>\n",
              "      <th>lugar</th>\n",
              "      <th>pais</th>\n",
              "      <th>sigla</th>\n",
              "      <th>latitude</th>\n",
              "      <th>longitude</th>\n",
              "    </tr>\n",
              "  </thead>\n",
              "  <tbody>\n",
              "    <tr>\n",
              "      <th>0</th>\n",
              "      <td>2020-05-23 00:21:14</td>\n",
              "      <td>Para voltar tudo ao normal, você precisa fazer...</td>\n",
              "      <td>0</td>\n",
              "      <td>pt</td>\n",
              "      <td>Rio das Ostras</td>\n",
              "      <td>Brazil</td>\n",
              "      <td>BR</td>\n",
              "      <td>-41.937900</td>\n",
              "      <td>-22.522600</td>\n",
              "    </tr>\n",
              "    <tr>\n",
              "      <th>1</th>\n",
              "      <td>2020-03-22 22:57:51</td>\n",
              "      <td>14.245 – O que é a hidroxicloroquina? https://...</td>\n",
              "      <td>0</td>\n",
              "      <td>pt</td>\n",
              "      <td>Sao Paulo</td>\n",
              "      <td>Brazil</td>\n",
              "      <td>BR</td>\n",
              "      <td>-46.674739</td>\n",
              "      <td>-23.606067</td>\n",
              "    </tr>\n",
              "  </tbody>\n",
              "</table>\n",
              "</div>"
            ],
            "text/plain": [
              "                  data  ...  longitude\n",
              "0  2020-05-23 00:21:14  ... -22.522600\n",
              "1  2020-03-22 22:57:51  ... -23.606067\n",
              "\n",
              "[2 rows x 9 columns]"
            ]
          },
          "metadata": {
            "tags": []
          },
          "execution_count": 108
        }
      ]
    },
    {
      "cell_type": "code",
      "metadata": {
        "id": "3Ee9qHGPt96V",
        "colab_type": "code",
        "colab": {
          "base_uri": "https://localhost:8080/",
          "height": 112
        },
        "outputId": "3bf46c24-6578-4ef3-e9f7-3246abd99d16"
      },
      "source": [
        "covid.tail(2)"
      ],
      "execution_count": 109,
      "outputs": [
        {
          "output_type": "execute_result",
          "data": {
            "text/html": [
              "<div>\n",
              "<style scoped>\n",
              "    .dataframe tbody tr th:only-of-type {\n",
              "        vertical-align: middle;\n",
              "    }\n",
              "\n",
              "    .dataframe tbody tr th {\n",
              "        vertical-align: top;\n",
              "    }\n",
              "\n",
              "    .dataframe thead th {\n",
              "        text-align: right;\n",
              "    }\n",
              "</style>\n",
              "<table border=\"1\" class=\"dataframe\">\n",
              "  <thead>\n",
              "    <tr style=\"text-align: right;\">\n",
              "      <th></th>\n",
              "      <th>data</th>\n",
              "      <th>texto</th>\n",
              "      <th>retweet</th>\n",
              "      <th>idioma</th>\n",
              "      <th>lugar</th>\n",
              "      <th>pais</th>\n",
              "      <th>sigla</th>\n",
              "      <th>latitude</th>\n",
              "      <th>longitude</th>\n",
              "    </tr>\n",
              "  </thead>\n",
              "  <tbody>\n",
              "    <tr>\n",
              "      <th>498</th>\n",
              "      <td>2020-03-03 21:27:11</td>\n",
              "      <td>Um vira-lata sem Coronavirus #joeviralata #dog...</td>\n",
              "      <td>0</td>\n",
              "      <td>pt</td>\n",
              "      <td>Sao Paulo</td>\n",
              "      <td>Brazil</td>\n",
              "      <td>BR</td>\n",
              "      <td>-46.633300</td>\n",
              "      <td>-23.550000</td>\n",
              "    </tr>\n",
              "    <tr>\n",
              "      <th>499</th>\n",
              "      <td>2020-01-21 13:18:03</td>\n",
              "      <td>Portugal já está a preparar-se para responder ...</td>\n",
              "      <td>1</td>\n",
              "      <td>pt</td>\n",
              "      <td>Lisbon</td>\n",
              "      <td>Portugal</td>\n",
              "      <td>PT</td>\n",
              "      <td>-9.099043</td>\n",
              "      <td>38.747518</td>\n",
              "    </tr>\n",
              "  </tbody>\n",
              "</table>\n",
              "</div>"
            ],
            "text/plain": [
              "                    data  ...  longitude\n",
              "498  2020-03-03 21:27:11  ... -23.550000\n",
              "499  2020-01-21 13:18:03  ...  38.747518\n",
              "\n",
              "[2 rows x 9 columns]"
            ]
          },
          "metadata": {
            "tags": []
          },
          "execution_count": 109
        }
      ]
    },
    {
      "cell_type": "code",
      "metadata": {
        "id": "QOEhdfTitPUI",
        "colab_type": "code",
        "colab": {
          "base_uri": "https://localhost:8080/",
          "height": 35
        },
        "outputId": "5cea48e1-bfe6-4843-a211-5ede77c0d84a"
      },
      "source": [
        "type(covid['lugar'])"
      ],
      "execution_count": 110,
      "outputs": [
        {
          "output_type": "execute_result",
          "data": {
            "text/plain": [
              "pandas.core.series.Series"
            ]
          },
          "metadata": {
            "tags": []
          },
          "execution_count": 110
        }
      ]
    },
    {
      "cell_type": "code",
      "metadata": {
        "id": "vr9y3cTEwYmi",
        "colab_type": "code",
        "colab": {}
      },
      "source": [
        "lugar = covid['lugar']"
      ],
      "execution_count": 111,
      "outputs": []
    },
    {
      "cell_type": "code",
      "metadata": {
        "id": "48DKJBJBwgsi",
        "colab_type": "code",
        "colab": {
          "base_uri": "https://localhost:8080/",
          "height": 109
        },
        "outputId": "4127fb92-1de2-40f2-a71c-0aa92812df7e"
      },
      "source": [
        "lugar.describe()"
      ],
      "execution_count": 112,
      "outputs": [
        {
          "output_type": "execute_result",
          "data": {
            "text/plain": [
              "count        500\n",
              "unique       202\n",
              "top       Lisbon\n",
              "freq          61\n",
              "Name: lugar, dtype: object"
            ]
          },
          "metadata": {
            "tags": []
          },
          "execution_count": 112
        }
      ]
    },
    {
      "cell_type": "code",
      "metadata": {
        "id": "xeC4kjprwzEC",
        "colab_type": "code",
        "colab": {
          "base_uri": "https://localhost:8080/",
          "height": 424
        },
        "outputId": "e78192a9-1bf3-45b6-e75b-40bf620dd6af"
      },
      "source": [
        "covid[200:]"
      ],
      "execution_count": 114,
      "outputs": [
        {
          "output_type": "execute_result",
          "data": {
            "text/html": [
              "<div>\n",
              "<style scoped>\n",
              "    .dataframe tbody tr th:only-of-type {\n",
              "        vertical-align: middle;\n",
              "    }\n",
              "\n",
              "    .dataframe tbody tr th {\n",
              "        vertical-align: top;\n",
              "    }\n",
              "\n",
              "    .dataframe thead th {\n",
              "        text-align: right;\n",
              "    }\n",
              "</style>\n",
              "<table border=\"1\" class=\"dataframe\">\n",
              "  <thead>\n",
              "    <tr style=\"text-align: right;\">\n",
              "      <th></th>\n",
              "      <th>data</th>\n",
              "      <th>texto</th>\n",
              "      <th>retweet</th>\n",
              "      <th>idioma</th>\n",
              "      <th>lugar</th>\n",
              "      <th>pais</th>\n",
              "      <th>sigla</th>\n",
              "      <th>latitude</th>\n",
              "      <th>longitude</th>\n",
              "    </tr>\n",
              "  </thead>\n",
              "  <tbody>\n",
              "    <tr>\n",
              "      <th>200</th>\n",
              "      <td>2020-04-06 19:43:50</td>\n",
              "      <td>Governo Federal aportará R$ 34 bilhões para qu...</td>\n",
              "      <td>0</td>\n",
              "      <td>pt</td>\n",
              "      <td>Maceió</td>\n",
              "      <td>Brazil</td>\n",
              "      <td>BR</td>\n",
              "      <td>-35.716214</td>\n",
              "      <td>-9.584293</td>\n",
              "    </tr>\n",
              "    <tr>\n",
              "      <th>201</th>\n",
              "      <td>2020-05-30 15:46:27</td>\n",
              "      <td>O prefeito de Bom Jesus da Lapa-Bahia, Eures R...</td>\n",
              "      <td>0</td>\n",
              "      <td>pt</td>\n",
              "      <td>Bom Jesus da Lapa</td>\n",
              "      <td>Brazil</td>\n",
              "      <td>BR</td>\n",
              "      <td>-43.420070</td>\n",
              "      <td>-13.253850</td>\n",
              "    </tr>\n",
              "    <tr>\n",
              "      <th>202</th>\n",
              "      <td>2020-03-18 12:34:39</td>\n",
              "      <td>#usodemascara contra a disseminação do COVID-1...</td>\n",
              "      <td>0</td>\n",
              "      <td>pt</td>\n",
              "      <td>Montes Claros</td>\n",
              "      <td>Brazil</td>\n",
              "      <td>BR</td>\n",
              "      <td>-43.863600</td>\n",
              "      <td>-16.732200</td>\n",
              "    </tr>\n",
              "    <tr>\n",
              "      <th>203</th>\n",
              "      <td>2020-03-22 17:41:58</td>\n",
              "      <td>#coronavirus #covid19 #covid_19 🦠 😷 #quarantin...</td>\n",
              "      <td>0</td>\n",
              "      <td>it</td>\n",
              "      <td>Montpelier</td>\n",
              "      <td>United States</td>\n",
              "      <td>US</td>\n",
              "      <td>-72.598119</td>\n",
              "      <td>44.152532</td>\n",
              "    </tr>\n",
              "    <tr>\n",
              "      <th>204</th>\n",
              "      <td>2020-03-10 07:41:03</td>\n",
              "      <td>Parlamento Europeu debate resposta da UE a Cov...</td>\n",
              "      <td>0</td>\n",
              "      <td>pt</td>\n",
              "      <td>Lisbon</td>\n",
              "      <td>Portugal</td>\n",
              "      <td>PT</td>\n",
              "      <td>-9.099043</td>\n",
              "      <td>38.747518</td>\n",
              "    </tr>\n",
              "    <tr>\n",
              "      <th>...</th>\n",
              "      <td>...</td>\n",
              "      <td>...</td>\n",
              "      <td>...</td>\n",
              "      <td>...</td>\n",
              "      <td>...</td>\n",
              "      <td>...</td>\n",
              "      <td>...</td>\n",
              "      <td>...</td>\n",
              "      <td>...</td>\n",
              "    </tr>\n",
              "    <tr>\n",
              "      <th>495</th>\n",
              "      <td>2020-04-07 16:14:13</td>\n",
              "      <td>O isolamento social também serve para mostrar ...</td>\n",
              "      <td>1</td>\n",
              "      <td>pt</td>\n",
              "      <td>Rio Branco</td>\n",
              "      <td>Brazil</td>\n",
              "      <td>BR</td>\n",
              "      <td>-67.859657</td>\n",
              "      <td>-9.932246</td>\n",
              "    </tr>\n",
              "    <tr>\n",
              "      <th>496</th>\n",
              "      <td>2020-03-26 18:02:28</td>\n",
              "      <td>Enquanto o mundo está atento ao covid 19 é o B...</td>\n",
              "      <td>0</td>\n",
              "      <td>pt</td>\n",
              "      <td>Rio de Janeiro</td>\n",
              "      <td>Brazil</td>\n",
              "      <td>BR</td>\n",
              "      <td>-43.358100</td>\n",
              "      <td>-22.942800</td>\n",
              "    </tr>\n",
              "    <tr>\n",
              "      <th>497</th>\n",
              "      <td>2020-03-18 05:28:16</td>\n",
              "      <td>#covid_19 #stayhome @ Toronto, Ontario https:/...</td>\n",
              "      <td>0</td>\n",
              "      <td>pt</td>\n",
              "      <td>Toronto</td>\n",
              "      <td>Canada</td>\n",
              "      <td>CA</td>\n",
              "      <td>-79.387200</td>\n",
              "      <td>43.648000</td>\n",
              "    </tr>\n",
              "    <tr>\n",
              "      <th>498</th>\n",
              "      <td>2020-03-03 21:27:11</td>\n",
              "      <td>Um vira-lata sem Coronavirus #joeviralata #dog...</td>\n",
              "      <td>0</td>\n",
              "      <td>pt</td>\n",
              "      <td>Sao Paulo</td>\n",
              "      <td>Brazil</td>\n",
              "      <td>BR</td>\n",
              "      <td>-46.633300</td>\n",
              "      <td>-23.550000</td>\n",
              "    </tr>\n",
              "    <tr>\n",
              "      <th>499</th>\n",
              "      <td>2020-01-21 13:18:03</td>\n",
              "      <td>Portugal já está a preparar-se para responder ...</td>\n",
              "      <td>1</td>\n",
              "      <td>pt</td>\n",
              "      <td>Lisbon</td>\n",
              "      <td>Portugal</td>\n",
              "      <td>PT</td>\n",
              "      <td>-9.099043</td>\n",
              "      <td>38.747518</td>\n",
              "    </tr>\n",
              "  </tbody>\n",
              "</table>\n",
              "<p>300 rows × 9 columns</p>\n",
              "</div>"
            ],
            "text/plain": [
              "                    data  ...  longitude\n",
              "200  2020-04-06 19:43:50  ...  -9.584293\n",
              "201  2020-05-30 15:46:27  ... -13.253850\n",
              "202  2020-03-18 12:34:39  ... -16.732200\n",
              "203  2020-03-22 17:41:58  ...  44.152532\n",
              "204  2020-03-10 07:41:03  ...  38.747518\n",
              "..                   ...  ...        ...\n",
              "495  2020-04-07 16:14:13  ...  -9.932246\n",
              "496  2020-03-26 18:02:28  ... -22.942800\n",
              "497  2020-03-18 05:28:16  ...  43.648000\n",
              "498  2020-03-03 21:27:11  ... -23.550000\n",
              "499  2020-01-21 13:18:03  ...  38.747518\n",
              "\n",
              "[300 rows x 9 columns]"
            ]
          },
          "metadata": {
            "tags": []
          },
          "execution_count": 114
        }
      ]
    },
    {
      "cell_type": "code",
      "metadata": {
        "id": "kNugaDuOw4LG",
        "colab_type": "code",
        "colab": {
          "base_uri": "https://localhost:8080/",
          "height": 175
        },
        "outputId": "b61f2e53-854b-4495-d50a-012d135b8f36"
      },
      "source": [
        "covid.iloc[0:10:3, 1:4]"
      ],
      "execution_count": 115,
      "outputs": [
        {
          "output_type": "execute_result",
          "data": {
            "text/html": [
              "<div>\n",
              "<style scoped>\n",
              "    .dataframe tbody tr th:only-of-type {\n",
              "        vertical-align: middle;\n",
              "    }\n",
              "\n",
              "    .dataframe tbody tr th {\n",
              "        vertical-align: top;\n",
              "    }\n",
              "\n",
              "    .dataframe thead th {\n",
              "        text-align: right;\n",
              "    }\n",
              "</style>\n",
              "<table border=\"1\" class=\"dataframe\">\n",
              "  <thead>\n",
              "    <tr style=\"text-align: right;\">\n",
              "      <th></th>\n",
              "      <th>texto</th>\n",
              "      <th>retweet</th>\n",
              "      <th>idioma</th>\n",
              "    </tr>\n",
              "  </thead>\n",
              "  <tbody>\n",
              "    <tr>\n",
              "      <th>0</th>\n",
              "      <td>Para voltar tudo ao normal, você precisa fazer...</td>\n",
              "      <td>0</td>\n",
              "      <td>pt</td>\n",
              "    </tr>\n",
              "    <tr>\n",
              "      <th>3</th>\n",
              "      <td>COVID-19 |  Hospital municipal Tide Setúbal, n...</td>\n",
              "      <td>0</td>\n",
              "      <td>pt</td>\n",
              "    </tr>\n",
              "    <tr>\n",
              "      <th>6</th>\n",
              "      <td>Estudo randomizado com remdesivir para o trata...</td>\n",
              "      <td>0</td>\n",
              "      <td>pt</td>\n",
              "    </tr>\n",
              "    <tr>\n",
              "      <th>9</th>\n",
              "      <td>Covid-19 | Ninguém paga água no concelho - Até...</td>\n",
              "      <td>0</td>\n",
              "      <td>pt</td>\n",
              "    </tr>\n",
              "  </tbody>\n",
              "</table>\n",
              "</div>"
            ],
            "text/plain": [
              "                                               texto  retweet idioma\n",
              "0  Para voltar tudo ao normal, você precisa fazer...        0     pt\n",
              "3  COVID-19 |  Hospital municipal Tide Setúbal, n...        0     pt\n",
              "6  Estudo randomizado com remdesivir para o trata...        0     pt\n",
              "9  Covid-19 | Ninguém paga água no concelho - Até...        0     pt"
            ]
          },
          "metadata": {
            "tags": []
          },
          "execution_count": 115
        }
      ]
    },
    {
      "cell_type": "code",
      "metadata": {
        "id": "W9OLC5QXw4ck",
        "colab_type": "code",
        "colab": {
          "base_uri": "https://localhost:8080/",
          "height": 238
        },
        "outputId": "4f220b43-d1c7-471c-d58f-f403587c0c74"
      },
      "source": [
        "covid.loc[0:10:2, \"texto\": \"lugar\"]"
      ],
      "execution_count": 116,
      "outputs": [
        {
          "output_type": "execute_result",
          "data": {
            "text/html": [
              "<div>\n",
              "<style scoped>\n",
              "    .dataframe tbody tr th:only-of-type {\n",
              "        vertical-align: middle;\n",
              "    }\n",
              "\n",
              "    .dataframe tbody tr th {\n",
              "        vertical-align: top;\n",
              "    }\n",
              "\n",
              "    .dataframe thead th {\n",
              "        text-align: right;\n",
              "    }\n",
              "</style>\n",
              "<table border=\"1\" class=\"dataframe\">\n",
              "  <thead>\n",
              "    <tr style=\"text-align: right;\">\n",
              "      <th></th>\n",
              "      <th>texto</th>\n",
              "      <th>retweet</th>\n",
              "      <th>idioma</th>\n",
              "      <th>lugar</th>\n",
              "    </tr>\n",
              "  </thead>\n",
              "  <tbody>\n",
              "    <tr>\n",
              "      <th>0</th>\n",
              "      <td>Para voltar tudo ao normal, você precisa fazer...</td>\n",
              "      <td>0</td>\n",
              "      <td>pt</td>\n",
              "      <td>Rio das Ostras</td>\n",
              "    </tr>\n",
              "    <tr>\n",
              "      <th>2</th>\n",
              "      <td>Quarta morte em Lar de Estarreja associada à C...</td>\n",
              "      <td>1</td>\n",
              "      <td>pt</td>\n",
              "      <td>Lisbon</td>\n",
              "    </tr>\n",
              "    <tr>\n",
              "      <th>4</th>\n",
              "      <td>#cenasdocotidiano #santos #distanciamentosocia...</td>\n",
              "      <td>0</td>\n",
              "      <td>pt</td>\n",
              "      <td>Santos</td>\n",
              "    </tr>\n",
              "    <tr>\n",
              "      <th>6</th>\n",
              "      <td>Estudo randomizado com remdesivir para o trata...</td>\n",
              "      <td>0</td>\n",
              "      <td>pt</td>\n",
              "      <td>Kingston</td>\n",
              "    </tr>\n",
              "    <tr>\n",
              "      <th>8</th>\n",
              "      <td>Bélgica ultrapassa barreira das 5.000 mortes p...</td>\n",
              "      <td>0</td>\n",
              "      <td>pt</td>\n",
              "      <td>Lisbon</td>\n",
              "    </tr>\n",
              "    <tr>\n",
              "      <th>10</th>\n",
              "      <td>Mais de 23 mil mortes e 505 mil infeções em to...</td>\n",
              "      <td>2</td>\n",
              "      <td>pt</td>\n",
              "      <td>Lisbon</td>\n",
              "    </tr>\n",
              "  </tbody>\n",
              "</table>\n",
              "</div>"
            ],
            "text/plain": [
              "                                                texto  ...           lugar\n",
              "0   Para voltar tudo ao normal, você precisa fazer...  ...  Rio das Ostras\n",
              "2   Quarta morte em Lar de Estarreja associada à C...  ...          Lisbon\n",
              "4   #cenasdocotidiano #santos #distanciamentosocia...  ...          Santos\n",
              "6   Estudo randomizado com remdesivir para o trata...  ...        Kingston\n",
              "8   Bélgica ultrapassa barreira das 5.000 mortes p...  ...          Lisbon\n",
              "10  Mais de 23 mil mortes e 505 mil infeções em to...  ...          Lisbon\n",
              "\n",
              "[6 rows x 4 columns]"
            ]
          },
          "metadata": {
            "tags": []
          },
          "execution_count": 116
        }
      ]
    },
    {
      "cell_type": "code",
      "metadata": {
        "id": "FtqPO-C4w4xr",
        "colab_type": "code",
        "colab": {
          "base_uri": "https://localhost:8080/",
          "height": 237
        },
        "outputId": "246668a9-d12b-4809-c886-495837fcc90a"
      },
      "source": [
        "covid['sigla'] == 'BR'"
      ],
      "execution_count": 117,
      "outputs": [
        {
          "output_type": "execute_result",
          "data": {
            "text/plain": [
              "0       True\n",
              "1       True\n",
              "2      False\n",
              "3       True\n",
              "4       True\n",
              "       ...  \n",
              "495     True\n",
              "496     True\n",
              "497    False\n",
              "498     True\n",
              "499    False\n",
              "Name: sigla, Length: 500, dtype: bool"
            ]
          },
          "metadata": {
            "tags": []
          },
          "execution_count": 117
        }
      ]
    },
    {
      "cell_type": "code",
      "metadata": {
        "id": "6fbg-XAUy5f6",
        "colab_type": "code",
        "colab": {
          "base_uri": "https://localhost:8080/",
          "height": 424
        },
        "outputId": "8d8c815c-e029-4738-ecab-e2b8e1afe8b8"
      },
      "source": [
        "covid[covid['sigla'] == 'BR'] "
      ],
      "execution_count": 118,
      "outputs": [
        {
          "output_type": "execute_result",
          "data": {
            "text/html": [
              "<div>\n",
              "<style scoped>\n",
              "    .dataframe tbody tr th:only-of-type {\n",
              "        vertical-align: middle;\n",
              "    }\n",
              "\n",
              "    .dataframe tbody tr th {\n",
              "        vertical-align: top;\n",
              "    }\n",
              "\n",
              "    .dataframe thead th {\n",
              "        text-align: right;\n",
              "    }\n",
              "</style>\n",
              "<table border=\"1\" class=\"dataframe\">\n",
              "  <thead>\n",
              "    <tr style=\"text-align: right;\">\n",
              "      <th></th>\n",
              "      <th>data</th>\n",
              "      <th>texto</th>\n",
              "      <th>retweet</th>\n",
              "      <th>idioma</th>\n",
              "      <th>lugar</th>\n",
              "      <th>pais</th>\n",
              "      <th>sigla</th>\n",
              "      <th>latitude</th>\n",
              "      <th>longitude</th>\n",
              "    </tr>\n",
              "  </thead>\n",
              "  <tbody>\n",
              "    <tr>\n",
              "      <th>0</th>\n",
              "      <td>2020-05-23 00:21:14</td>\n",
              "      <td>Para voltar tudo ao normal, você precisa fazer...</td>\n",
              "      <td>0</td>\n",
              "      <td>pt</td>\n",
              "      <td>Rio das Ostras</td>\n",
              "      <td>Brazil</td>\n",
              "      <td>BR</td>\n",
              "      <td>-41.937900</td>\n",
              "      <td>-22.522600</td>\n",
              "    </tr>\n",
              "    <tr>\n",
              "      <th>1</th>\n",
              "      <td>2020-03-22 22:57:51</td>\n",
              "      <td>14.245 – O que é a hidroxicloroquina? https://...</td>\n",
              "      <td>0</td>\n",
              "      <td>pt</td>\n",
              "      <td>Sao Paulo</td>\n",
              "      <td>Brazil</td>\n",
              "      <td>BR</td>\n",
              "      <td>-46.674739</td>\n",
              "      <td>-23.606067</td>\n",
              "    </tr>\n",
              "    <tr>\n",
              "      <th>3</th>\n",
              "      <td>2020-05-25 20:45:43</td>\n",
              "      <td>COVID-19 |  Hospital municipal Tide Setúbal, n...</td>\n",
              "      <td>0</td>\n",
              "      <td>pt</td>\n",
              "      <td>Sao Paulo</td>\n",
              "      <td>Brazil</td>\n",
              "      <td>BR</td>\n",
              "      <td>-46.633300</td>\n",
              "      <td>-23.550000</td>\n",
              "    </tr>\n",
              "    <tr>\n",
              "      <th>4</th>\n",
              "      <td>2020-04-15 10:34:39</td>\n",
              "      <td>#cenasdocotidiano #santos #distanciamentosocia...</td>\n",
              "      <td>0</td>\n",
              "      <td>pt</td>\n",
              "      <td>Santos</td>\n",
              "      <td>Brazil</td>\n",
              "      <td>BR</td>\n",
              "      <td>-46.293700</td>\n",
              "      <td>-23.975947</td>\n",
              "    </tr>\n",
              "    <tr>\n",
              "      <th>7</th>\n",
              "      <td>2020-03-22 19:12:37</td>\n",
              "      <td>Memórias do cárcere. Hoje deu até pra treinar ...</td>\n",
              "      <td>0</td>\n",
              "      <td>pt</td>\n",
              "      <td>Rio de Janeiro</td>\n",
              "      <td>Brazil</td>\n",
              "      <td>BR</td>\n",
              "      <td>-43.273900</td>\n",
              "      <td>-22.961900</td>\n",
              "    </tr>\n",
              "    <tr>\n",
              "      <th>...</th>\n",
              "      <td>...</td>\n",
              "      <td>...</td>\n",
              "      <td>...</td>\n",
              "      <td>...</td>\n",
              "      <td>...</td>\n",
              "      <td>...</td>\n",
              "      <td>...</td>\n",
              "      <td>...</td>\n",
              "      <td>...</td>\n",
              "    </tr>\n",
              "    <tr>\n",
              "      <th>493</th>\n",
              "      <td>2020-04-08 23:40:59</td>\n",
              "      <td>A Lei 13.987/20 garante a distribuição dos ali...</td>\n",
              "      <td>0</td>\n",
              "      <td>pt</td>\n",
              "      <td>Medianeira</td>\n",
              "      <td>Brazil</td>\n",
              "      <td>BR</td>\n",
              "      <td>-54.104104</td>\n",
              "      <td>-25.297434</td>\n",
              "    </tr>\n",
              "    <tr>\n",
              "      <th>494</th>\n",
              "      <td>2020-04-14 12:06:38</td>\n",
              "      <td>A 2ª Vara de Família e Sucessões de Jacareí, e...</td>\n",
              "      <td>0</td>\n",
              "      <td>pt</td>\n",
              "      <td>Sao Paulo</td>\n",
              "      <td>Brazil</td>\n",
              "      <td>BR</td>\n",
              "      <td>-46.638670</td>\n",
              "      <td>-23.540780</td>\n",
              "    </tr>\n",
              "    <tr>\n",
              "      <th>495</th>\n",
              "      <td>2020-04-07 16:14:13</td>\n",
              "      <td>O isolamento social também serve para mostrar ...</td>\n",
              "      <td>1</td>\n",
              "      <td>pt</td>\n",
              "      <td>Rio Branco</td>\n",
              "      <td>Brazil</td>\n",
              "      <td>BR</td>\n",
              "      <td>-67.859657</td>\n",
              "      <td>-9.932246</td>\n",
              "    </tr>\n",
              "    <tr>\n",
              "      <th>496</th>\n",
              "      <td>2020-03-26 18:02:28</td>\n",
              "      <td>Enquanto o mundo está atento ao covid 19 é o B...</td>\n",
              "      <td>0</td>\n",
              "      <td>pt</td>\n",
              "      <td>Rio de Janeiro</td>\n",
              "      <td>Brazil</td>\n",
              "      <td>BR</td>\n",
              "      <td>-43.358100</td>\n",
              "      <td>-22.942800</td>\n",
              "    </tr>\n",
              "    <tr>\n",
              "      <th>498</th>\n",
              "      <td>2020-03-03 21:27:11</td>\n",
              "      <td>Um vira-lata sem Coronavirus #joeviralata #dog...</td>\n",
              "      <td>0</td>\n",
              "      <td>pt</td>\n",
              "      <td>Sao Paulo</td>\n",
              "      <td>Brazil</td>\n",
              "      <td>BR</td>\n",
              "      <td>-46.633300</td>\n",
              "      <td>-23.550000</td>\n",
              "    </tr>\n",
              "  </tbody>\n",
              "</table>\n",
              "<p>392 rows × 9 columns</p>\n",
              "</div>"
            ],
            "text/plain": [
              "                    data  ...  longitude\n",
              "0    2020-05-23 00:21:14  ... -22.522600\n",
              "1    2020-03-22 22:57:51  ... -23.606067\n",
              "3    2020-05-25 20:45:43  ... -23.550000\n",
              "4    2020-04-15 10:34:39  ... -23.975947\n",
              "7    2020-03-22 19:12:37  ... -22.961900\n",
              "..                   ...  ...        ...\n",
              "493  2020-04-08 23:40:59  ... -25.297434\n",
              "494  2020-04-14 12:06:38  ... -23.540780\n",
              "495  2020-04-07 16:14:13  ...  -9.932246\n",
              "496  2020-03-26 18:02:28  ... -22.942800\n",
              "498  2020-03-03 21:27:11  ... -23.550000\n",
              "\n",
              "[392 rows x 9 columns]"
            ]
          },
          "metadata": {
            "tags": []
          },
          "execution_count": 118
        }
      ]
    },
    {
      "cell_type": "code",
      "metadata": {
        "id": "j-Zde9Tzy5pw",
        "colab_type": "code",
        "colab": {
          "base_uri": "https://localhost:8080/",
          "height": 72
        },
        "outputId": "0874e121-e9f8-48a3-d9ab-5866f9a07b81"
      },
      "source": [
        "covid.sigla.unique()"
      ],
      "execution_count": 119,
      "outputs": [
        {
          "output_type": "execute_result",
          "data": {
            "text/plain": [
              "array(['BR', 'PT', 'VA', 'CA', 'US', 'ID', 'ES', 'AU', 'MX', 'NL', 'CH',\n",
              "       'NZ', 'CW', 'IT', 'IN', 'DO', 'EC', 'CN', nan, 'FR', 'MZ', 'GB'],\n",
              "      dtype=object)"
            ]
          },
          "metadata": {
            "tags": []
          },
          "execution_count": 119
        }
      ]
    },
    {
      "cell_type": "code",
      "metadata": {
        "id": "7yXrpZ66w492",
        "colab_type": "code",
        "colab": {
          "base_uri": "https://localhost:8080/",
          "height": 237
        },
        "outputId": "24547da2-cb81-4aeb-f944-30afe89ebe7a"
      },
      "source": [
        "covid.sigla.isna()"
      ],
      "execution_count": 120,
      "outputs": [
        {
          "output_type": "execute_result",
          "data": {
            "text/plain": [
              "0      False\n",
              "1      False\n",
              "2      False\n",
              "3      False\n",
              "4      False\n",
              "       ...  \n",
              "495    False\n",
              "496    False\n",
              "497    False\n",
              "498    False\n",
              "499    False\n",
              "Name: sigla, Length: 500, dtype: bool"
            ]
          },
          "metadata": {
            "tags": []
          },
          "execution_count": 120
        }
      ]
    },
    {
      "cell_type": "code",
      "metadata": {
        "id": "5WDyKPedy5cf",
        "colab_type": "code",
        "colab": {
          "base_uri": "https://localhost:8080/",
          "height": 81
        },
        "outputId": "5d44d358-2488-4335-8ba2-fe75f458f057"
      },
      "source": [
        "covid[covid.sigla.isna()]"
      ],
      "execution_count": 121,
      "outputs": [
        {
          "output_type": "execute_result",
          "data": {
            "text/html": [
              "<div>\n",
              "<style scoped>\n",
              "    .dataframe tbody tr th:only-of-type {\n",
              "        vertical-align: middle;\n",
              "    }\n",
              "\n",
              "    .dataframe tbody tr th {\n",
              "        vertical-align: top;\n",
              "    }\n",
              "\n",
              "    .dataframe thead th {\n",
              "        text-align: right;\n",
              "    }\n",
              "</style>\n",
              "<table border=\"1\" class=\"dataframe\">\n",
              "  <thead>\n",
              "    <tr style=\"text-align: right;\">\n",
              "      <th></th>\n",
              "      <th>data</th>\n",
              "      <th>texto</th>\n",
              "      <th>retweet</th>\n",
              "      <th>idioma</th>\n",
              "      <th>lugar</th>\n",
              "      <th>pais</th>\n",
              "      <th>sigla</th>\n",
              "      <th>latitude</th>\n",
              "      <th>longitude</th>\n",
              "    </tr>\n",
              "  </thead>\n",
              "  <tbody>\n",
              "    <tr>\n",
              "      <th>399</th>\n",
              "      <td>2020-03-19 12:30:16</td>\n",
              "      <td>Meu #tbt de isolamento social 🏕🌵 #namibia #afr...</td>\n",
              "      <td>0</td>\n",
              "      <td>pt</td>\n",
              "      <td>Namibia</td>\n",
              "      <td>Namibia</td>\n",
              "      <td>NaN</td>\n",
              "      <td>17.0</td>\n",
              "      <td>-23.0</td>\n",
              "    </tr>\n",
              "  </tbody>\n",
              "</table>\n",
              "</div>"
            ],
            "text/plain": [
              "                    data  ... longitude\n",
              "399  2020-03-19 12:30:16  ...     -23.0\n",
              "\n",
              "[1 rows x 9 columns]"
            ]
          },
          "metadata": {
            "tags": []
          },
          "execution_count": 121
        }
      ]
    },
    {
      "cell_type": "code",
      "metadata": {
        "id": "cEk-oHeew5C9",
        "colab_type": "code",
        "colab": {
          "base_uri": "https://localhost:8080/",
          "height": 201
        },
        "outputId": "62e99d11-25ff-467b-d223-b34181a36929"
      },
      "source": [
        "covid.fillna(\"NB\").iloc[399]"
      ],
      "execution_count": 122,
      "outputs": [
        {
          "output_type": "execute_result",
          "data": {
            "text/plain": [
              "data                                       2020-03-19 12:30:16\n",
              "texto        Meu #tbt de isolamento social 🏕🌵 #namibia #afr...\n",
              "retweet                                                      0\n",
              "idioma                                                      pt\n",
              "lugar                                                  Namibia\n",
              "pais                                                   Namibia\n",
              "sigla                                                       NB\n",
              "latitude                                                    17\n",
              "longitude                                                  -23\n",
              "Name: 399, dtype: object"
            ]
          },
          "metadata": {
            "tags": []
          },
          "execution_count": 122
        }
      ]
    },
    {
      "cell_type": "code",
      "metadata": {
        "id": "fFXeTHMi2DKD",
        "colab_type": "code",
        "colab": {
          "base_uri": "https://localhost:8080/",
          "height": 791
        },
        "outputId": "96fbed55-c769-4d82-d4a4-1b0d25497b49"
      },
      "source": [
        "covid.groupby('sigla').describe()"
      ],
      "execution_count": 123,
      "outputs": [
        {
          "output_type": "execute_result",
          "data": {
            "text/html": [
              "<div>\n",
              "<style scoped>\n",
              "    .dataframe tbody tr th:only-of-type {\n",
              "        vertical-align: middle;\n",
              "    }\n",
              "\n",
              "    .dataframe tbody tr th {\n",
              "        vertical-align: top;\n",
              "    }\n",
              "\n",
              "    .dataframe thead tr th {\n",
              "        text-align: left;\n",
              "    }\n",
              "\n",
              "    .dataframe thead tr:last-of-type th {\n",
              "        text-align: right;\n",
              "    }\n",
              "</style>\n",
              "<table border=\"1\" class=\"dataframe\">\n",
              "  <thead>\n",
              "    <tr>\n",
              "      <th></th>\n",
              "      <th colspan=\"8\" halign=\"left\">retweet</th>\n",
              "      <th colspan=\"8\" halign=\"left\">latitude</th>\n",
              "      <th colspan=\"8\" halign=\"left\">longitude</th>\n",
              "    </tr>\n",
              "    <tr>\n",
              "      <th></th>\n",
              "      <th>count</th>\n",
              "      <th>mean</th>\n",
              "      <th>std</th>\n",
              "      <th>min</th>\n",
              "      <th>25%</th>\n",
              "      <th>50%</th>\n",
              "      <th>75%</th>\n",
              "      <th>max</th>\n",
              "      <th>count</th>\n",
              "      <th>mean</th>\n",
              "      <th>std</th>\n",
              "      <th>min</th>\n",
              "      <th>25%</th>\n",
              "      <th>50%</th>\n",
              "      <th>75%</th>\n",
              "      <th>max</th>\n",
              "      <th>count</th>\n",
              "      <th>mean</th>\n",
              "      <th>std</th>\n",
              "      <th>min</th>\n",
              "      <th>25%</th>\n",
              "      <th>50%</th>\n",
              "      <th>75%</th>\n",
              "      <th>max</th>\n",
              "    </tr>\n",
              "    <tr>\n",
              "      <th>sigla</th>\n",
              "      <th></th>\n",
              "      <th></th>\n",
              "      <th></th>\n",
              "      <th></th>\n",
              "      <th></th>\n",
              "      <th></th>\n",
              "      <th></th>\n",
              "      <th></th>\n",
              "      <th></th>\n",
              "      <th></th>\n",
              "      <th></th>\n",
              "      <th></th>\n",
              "      <th></th>\n",
              "      <th></th>\n",
              "      <th></th>\n",
              "      <th></th>\n",
              "      <th></th>\n",
              "      <th></th>\n",
              "      <th></th>\n",
              "      <th></th>\n",
              "      <th></th>\n",
              "      <th></th>\n",
              "      <th></th>\n",
              "      <th></th>\n",
              "    </tr>\n",
              "  </thead>\n",
              "  <tbody>\n",
              "    <tr>\n",
              "      <th>AU</th>\n",
              "      <td>2.0</td>\n",
              "      <td>0.500000</td>\n",
              "      <td>0.707107</td>\n",
              "      <td>0.0</td>\n",
              "      <td>0.25</td>\n",
              "      <td>0.5</td>\n",
              "      <td>0.75</td>\n",
              "      <td>1.0</td>\n",
              "      <td>2.0</td>\n",
              "      <td>144.960592</td>\n",
              "      <td>0.000619</td>\n",
              "      <td>144.960154</td>\n",
              "      <td>144.960373</td>\n",
              "      <td>144.960592</td>\n",
              "      <td>144.960811</td>\n",
              "      <td>144.961030</td>\n",
              "      <td>2.0</td>\n",
              "      <td>-37.817565</td>\n",
              "      <td>0.001704</td>\n",
              "      <td>-37.818769</td>\n",
              "      <td>-37.818167</td>\n",
              "      <td>-37.817565</td>\n",
              "      <td>-37.816962</td>\n",
              "      <td>-37.816360</td>\n",
              "    </tr>\n",
              "    <tr>\n",
              "      <th>BR</th>\n",
              "      <td>392.0</td>\n",
              "      <td>0.102041</td>\n",
              "      <td>0.397943</td>\n",
              "      <td>0.0</td>\n",
              "      <td>0.00</td>\n",
              "      <td>0.0</td>\n",
              "      <td>0.00</td>\n",
              "      <td>3.0</td>\n",
              "      <td>392.0</td>\n",
              "      <td>-44.820629</td>\n",
              "      <td>6.104673</td>\n",
              "      <td>-67.859657</td>\n",
              "      <td>-47.900000</td>\n",
              "      <td>-46.417176</td>\n",
              "      <td>-39.672480</td>\n",
              "      <td>-34.827386</td>\n",
              "      <td>392.0</td>\n",
              "      <td>-17.804981</td>\n",
              "      <td>7.596866</td>\n",
              "      <td>-30.057708</td>\n",
              "      <td>-23.550000</td>\n",
              "      <td>-21.019905</td>\n",
              "      <td>-10.748788</td>\n",
              "      <td>-1.451100</td>\n",
              "    </tr>\n",
              "    <tr>\n",
              "      <th>CA</th>\n",
              "      <td>6.0</td>\n",
              "      <td>0.333333</td>\n",
              "      <td>0.816497</td>\n",
              "      <td>0.0</td>\n",
              "      <td>0.00</td>\n",
              "      <td>0.0</td>\n",
              "      <td>0.00</td>\n",
              "      <td>2.0</td>\n",
              "      <td>6.0</td>\n",
              "      <td>-78.903142</td>\n",
              "      <td>1.185695</td>\n",
              "      <td>-79.387200</td>\n",
              "      <td>-79.387200</td>\n",
              "      <td>-79.387200</td>\n",
              "      <td>-79.387200</td>\n",
              "      <td>-76.482852</td>\n",
              "      <td>6.0</td>\n",
              "      <td>43.745404</td>\n",
              "      <td>0.238590</td>\n",
              "      <td>43.648000</td>\n",
              "      <td>43.648000</td>\n",
              "      <td>43.648000</td>\n",
              "      <td>43.648000</td>\n",
              "      <td>44.232424</td>\n",
              "    </tr>\n",
              "    <tr>\n",
              "      <th>CH</th>\n",
              "      <td>1.0</td>\n",
              "      <td>0.000000</td>\n",
              "      <td>NaN</td>\n",
              "      <td>0.0</td>\n",
              "      <td>0.00</td>\n",
              "      <td>0.0</td>\n",
              "      <td>0.00</td>\n",
              "      <td>0.0</td>\n",
              "      <td>1.0</td>\n",
              "      <td>9.873100</td>\n",
              "      <td>NaN</td>\n",
              "      <td>9.873100</td>\n",
              "      <td>9.873100</td>\n",
              "      <td>9.873100</td>\n",
              "      <td>9.873100</td>\n",
              "      <td>9.873100</td>\n",
              "      <td>1.0</td>\n",
              "      <td>46.536070</td>\n",
              "      <td>NaN</td>\n",
              "      <td>46.536070</td>\n",
              "      <td>46.536070</td>\n",
              "      <td>46.536070</td>\n",
              "      <td>46.536070</td>\n",
              "      <td>46.536070</td>\n",
              "    </tr>\n",
              "    <tr>\n",
              "      <th>CN</th>\n",
              "      <td>1.0</td>\n",
              "      <td>0.000000</td>\n",
              "      <td>NaN</td>\n",
              "      <td>0.0</td>\n",
              "      <td>0.00</td>\n",
              "      <td>0.0</td>\n",
              "      <td>0.00</td>\n",
              "      <td>0.0</td>\n",
              "      <td>1.0</td>\n",
              "      <td>103.000000</td>\n",
              "      <td>NaN</td>\n",
              "      <td>103.000000</td>\n",
              "      <td>103.000000</td>\n",
              "      <td>103.000000</td>\n",
              "      <td>103.000000</td>\n",
              "      <td>103.000000</td>\n",
              "      <td>1.0</td>\n",
              "      <td>35.000000</td>\n",
              "      <td>NaN</td>\n",
              "      <td>35.000000</td>\n",
              "      <td>35.000000</td>\n",
              "      <td>35.000000</td>\n",
              "      <td>35.000000</td>\n",
              "      <td>35.000000</td>\n",
              "    </tr>\n",
              "    <tr>\n",
              "      <th>CW</th>\n",
              "      <td>1.0</td>\n",
              "      <td>0.000000</td>\n",
              "      <td>NaN</td>\n",
              "      <td>0.0</td>\n",
              "      <td>0.00</td>\n",
              "      <td>0.0</td>\n",
              "      <td>0.00</td>\n",
              "      <td>0.0</td>\n",
              "      <td>1.0</td>\n",
              "      <td>-69.000000</td>\n",
              "      <td>NaN</td>\n",
              "      <td>-69.000000</td>\n",
              "      <td>-69.000000</td>\n",
              "      <td>-69.000000</td>\n",
              "      <td>-69.000000</td>\n",
              "      <td>-69.000000</td>\n",
              "      <td>1.0</td>\n",
              "      <td>12.183333</td>\n",
              "      <td>NaN</td>\n",
              "      <td>12.183333</td>\n",
              "      <td>12.183333</td>\n",
              "      <td>12.183333</td>\n",
              "      <td>12.183333</td>\n",
              "      <td>12.183333</td>\n",
              "    </tr>\n",
              "    <tr>\n",
              "      <th>DO</th>\n",
              "      <td>1.0</td>\n",
              "      <td>0.000000</td>\n",
              "      <td>NaN</td>\n",
              "      <td>0.0</td>\n",
              "      <td>0.00</td>\n",
              "      <td>0.0</td>\n",
              "      <td>0.00</td>\n",
              "      <td>0.0</td>\n",
              "      <td>1.0</td>\n",
              "      <td>-69.948508</td>\n",
              "      <td>NaN</td>\n",
              "      <td>-69.948508</td>\n",
              "      <td>-69.948508</td>\n",
              "      <td>-69.948508</td>\n",
              "      <td>-69.948508</td>\n",
              "      <td>-69.948508</td>\n",
              "      <td>1.0</td>\n",
              "      <td>18.459688</td>\n",
              "      <td>NaN</td>\n",
              "      <td>18.459688</td>\n",
              "      <td>18.459688</td>\n",
              "      <td>18.459688</td>\n",
              "      <td>18.459688</td>\n",
              "      <td>18.459688</td>\n",
              "    </tr>\n",
              "    <tr>\n",
              "      <th>EC</th>\n",
              "      <td>1.0</td>\n",
              "      <td>0.000000</td>\n",
              "      <td>NaN</td>\n",
              "      <td>0.0</td>\n",
              "      <td>0.00</td>\n",
              "      <td>0.0</td>\n",
              "      <td>0.00</td>\n",
              "      <td>0.0</td>\n",
              "      <td>1.0</td>\n",
              "      <td>-80.981046</td>\n",
              "      <td>NaN</td>\n",
              "      <td>-80.981046</td>\n",
              "      <td>-80.981046</td>\n",
              "      <td>-80.981046</td>\n",
              "      <td>-80.981046</td>\n",
              "      <td>-80.981046</td>\n",
              "      <td>1.0</td>\n",
              "      <td>-2.198850</td>\n",
              "      <td>NaN</td>\n",
              "      <td>-2.198850</td>\n",
              "      <td>-2.198850</td>\n",
              "      <td>-2.198850</td>\n",
              "      <td>-2.198850</td>\n",
              "      <td>-2.198850</td>\n",
              "    </tr>\n",
              "    <tr>\n",
              "      <th>ES</th>\n",
              "      <td>3.0</td>\n",
              "      <td>0.000000</td>\n",
              "      <td>0.000000</td>\n",
              "      <td>0.0</td>\n",
              "      <td>0.00</td>\n",
              "      <td>0.0</td>\n",
              "      <td>0.00</td>\n",
              "      <td>0.0</td>\n",
              "      <td>3.0</td>\n",
              "      <td>0.966553</td>\n",
              "      <td>1.278562</td>\n",
              "      <td>-0.377000</td>\n",
              "      <td>0.365680</td>\n",
              "      <td>1.108359</td>\n",
              "      <td>1.638329</td>\n",
              "      <td>2.168300</td>\n",
              "      <td>3.0</td>\n",
              "      <td>40.669775</td>\n",
              "      <td>1.050093</td>\n",
              "      <td>39.464800</td>\n",
              "      <td>40.309962</td>\n",
              "      <td>41.155124</td>\n",
              "      <td>41.272262</td>\n",
              "      <td>41.389400</td>\n",
              "    </tr>\n",
              "    <tr>\n",
              "      <th>FR</th>\n",
              "      <td>2.0</td>\n",
              "      <td>0.000000</td>\n",
              "      <td>0.000000</td>\n",
              "      <td>0.0</td>\n",
              "      <td>0.00</td>\n",
              "      <td>0.0</td>\n",
              "      <td>0.00</td>\n",
              "      <td>0.0</td>\n",
              "      <td>2.0</td>\n",
              "      <td>3.595700</td>\n",
              "      <td>1.762817</td>\n",
              "      <td>2.349200</td>\n",
              "      <td>2.972450</td>\n",
              "      <td>3.595700</td>\n",
              "      <td>4.218950</td>\n",
              "      <td>4.842200</td>\n",
              "      <td>2.0</td>\n",
              "      <td>47.308500</td>\n",
              "      <td>2.190334</td>\n",
              "      <td>45.759700</td>\n",
              "      <td>46.534100</td>\n",
              "      <td>47.308500</td>\n",
              "      <td>48.082900</td>\n",
              "      <td>48.857300</td>\n",
              "    </tr>\n",
              "    <tr>\n",
              "      <th>GB</th>\n",
              "      <td>1.0</td>\n",
              "      <td>1.000000</td>\n",
              "      <td>NaN</td>\n",
              "      <td>1.0</td>\n",
              "      <td>1.00</td>\n",
              "      <td>1.0</td>\n",
              "      <td>1.00</td>\n",
              "      <td>1.0</td>\n",
              "      <td>1.0</td>\n",
              "      <td>-0.109400</td>\n",
              "      <td>NaN</td>\n",
              "      <td>-0.109400</td>\n",
              "      <td>-0.109400</td>\n",
              "      <td>-0.109400</td>\n",
              "      <td>-0.109400</td>\n",
              "      <td>-0.109400</td>\n",
              "      <td>1.0</td>\n",
              "      <td>51.514100</td>\n",
              "      <td>NaN</td>\n",
              "      <td>51.514100</td>\n",
              "      <td>51.514100</td>\n",
              "      <td>51.514100</td>\n",
              "      <td>51.514100</td>\n",
              "      <td>51.514100</td>\n",
              "    </tr>\n",
              "    <tr>\n",
              "      <th>ID</th>\n",
              "      <td>1.0</td>\n",
              "      <td>0.000000</td>\n",
              "      <td>NaN</td>\n",
              "      <td>0.0</td>\n",
              "      <td>0.00</td>\n",
              "      <td>0.0</td>\n",
              "      <td>0.00</td>\n",
              "      <td>0.0</td>\n",
              "      <td>1.0</td>\n",
              "      <td>111.466700</td>\n",
              "      <td>NaN</td>\n",
              "      <td>111.466700</td>\n",
              "      <td>111.466700</td>\n",
              "      <td>111.466700</td>\n",
              "      <td>111.466700</td>\n",
              "      <td>111.466700</td>\n",
              "      <td>1.0</td>\n",
              "      <td>-7.864919</td>\n",
              "      <td>NaN</td>\n",
              "      <td>-7.864919</td>\n",
              "      <td>-7.864919</td>\n",
              "      <td>-7.864919</td>\n",
              "      <td>-7.864919</td>\n",
              "      <td>-7.864919</td>\n",
              "    </tr>\n",
              "    <tr>\n",
              "      <th>IN</th>\n",
              "      <td>1.0</td>\n",
              "      <td>0.000000</td>\n",
              "      <td>NaN</td>\n",
              "      <td>0.0</td>\n",
              "      <td>0.00</td>\n",
              "      <td>0.0</td>\n",
              "      <td>0.00</td>\n",
              "      <td>0.0</td>\n",
              "      <td>1.0</td>\n",
              "      <td>77.219672</td>\n",
              "      <td>NaN</td>\n",
              "      <td>77.219672</td>\n",
              "      <td>77.219672</td>\n",
              "      <td>77.219672</td>\n",
              "      <td>77.219672</td>\n",
              "      <td>77.219672</td>\n",
              "      <td>1.0</td>\n",
              "      <td>28.631747</td>\n",
              "      <td>NaN</td>\n",
              "      <td>28.631747</td>\n",
              "      <td>28.631747</td>\n",
              "      <td>28.631747</td>\n",
              "      <td>28.631747</td>\n",
              "      <td>28.631747</td>\n",
              "    </tr>\n",
              "    <tr>\n",
              "      <th>IT</th>\n",
              "      <td>2.0</td>\n",
              "      <td>0.000000</td>\n",
              "      <td>0.000000</td>\n",
              "      <td>0.0</td>\n",
              "      <td>0.00</td>\n",
              "      <td>0.0</td>\n",
              "      <td>0.00</td>\n",
              "      <td>0.0</td>\n",
              "      <td>2.0</td>\n",
              "      <td>10.844850</td>\n",
              "      <td>2.340736</td>\n",
              "      <td>9.189700</td>\n",
              "      <td>10.017275</td>\n",
              "      <td>10.844850</td>\n",
              "      <td>11.672425</td>\n",
              "      <td>12.500000</td>\n",
              "      <td>2.0</td>\n",
              "      <td>43.682150</td>\n",
              "      <td>2.520341</td>\n",
              "      <td>41.900000</td>\n",
              "      <td>42.791075</td>\n",
              "      <td>43.682150</td>\n",
              "      <td>44.573225</td>\n",
              "      <td>45.464300</td>\n",
              "    </tr>\n",
              "    <tr>\n",
              "      <th>MX</th>\n",
              "      <td>1.0</td>\n",
              "      <td>0.000000</td>\n",
              "      <td>NaN</td>\n",
              "      <td>0.0</td>\n",
              "      <td>0.00</td>\n",
              "      <td>0.0</td>\n",
              "      <td>0.00</td>\n",
              "      <td>0.0</td>\n",
              "      <td>1.0</td>\n",
              "      <td>-99.082084</td>\n",
              "      <td>NaN</td>\n",
              "      <td>-99.082084</td>\n",
              "      <td>-99.082084</td>\n",
              "      <td>-99.082084</td>\n",
              "      <td>-99.082084</td>\n",
              "      <td>-99.082084</td>\n",
              "      <td>1.0</td>\n",
              "      <td>19.433873</td>\n",
              "      <td>NaN</td>\n",
              "      <td>19.433873</td>\n",
              "      <td>19.433873</td>\n",
              "      <td>19.433873</td>\n",
              "      <td>19.433873</td>\n",
              "      <td>19.433873</td>\n",
              "    </tr>\n",
              "    <tr>\n",
              "      <th>MZ</th>\n",
              "      <td>1.0</td>\n",
              "      <td>0.000000</td>\n",
              "      <td>NaN</td>\n",
              "      <td>0.0</td>\n",
              "      <td>0.00</td>\n",
              "      <td>0.0</td>\n",
              "      <td>0.00</td>\n",
              "      <td>0.0</td>\n",
              "      <td>1.0</td>\n",
              "      <td>38.999700</td>\n",
              "      <td>NaN</td>\n",
              "      <td>38.999700</td>\n",
              "      <td>38.999700</td>\n",
              "      <td>38.999700</td>\n",
              "      <td>38.999700</td>\n",
              "      <td>38.999700</td>\n",
              "      <td>1.0</td>\n",
              "      <td>-13.125600</td>\n",
              "      <td>NaN</td>\n",
              "      <td>-13.125600</td>\n",
              "      <td>-13.125600</td>\n",
              "      <td>-13.125600</td>\n",
              "      <td>-13.125600</td>\n",
              "      <td>-13.125600</td>\n",
              "    </tr>\n",
              "    <tr>\n",
              "      <th>NL</th>\n",
              "      <td>1.0</td>\n",
              "      <td>0.000000</td>\n",
              "      <td>NaN</td>\n",
              "      <td>0.0</td>\n",
              "      <td>0.00</td>\n",
              "      <td>0.0</td>\n",
              "      <td>0.00</td>\n",
              "      <td>0.0</td>\n",
              "      <td>1.0</td>\n",
              "      <td>5.106800</td>\n",
              "      <td>NaN</td>\n",
              "      <td>5.106800</td>\n",
              "      <td>5.106800</td>\n",
              "      <td>5.106800</td>\n",
              "      <td>5.106800</td>\n",
              "      <td>5.106800</td>\n",
              "      <td>1.0</td>\n",
              "      <td>52.087400</td>\n",
              "      <td>NaN</td>\n",
              "      <td>52.087400</td>\n",
              "      <td>52.087400</td>\n",
              "      <td>52.087400</td>\n",
              "      <td>52.087400</td>\n",
              "      <td>52.087400</td>\n",
              "    </tr>\n",
              "    <tr>\n",
              "      <th>NZ</th>\n",
              "      <td>2.0</td>\n",
              "      <td>0.000000</td>\n",
              "      <td>0.000000</td>\n",
              "      <td>0.0</td>\n",
              "      <td>0.00</td>\n",
              "      <td>0.0</td>\n",
              "      <td>0.00</td>\n",
              "      <td>0.0</td>\n",
              "      <td>2.0</td>\n",
              "      <td>174.765000</td>\n",
              "      <td>0.000000</td>\n",
              "      <td>174.765000</td>\n",
              "      <td>174.765000</td>\n",
              "      <td>174.765000</td>\n",
              "      <td>174.765000</td>\n",
              "      <td>174.765000</td>\n",
              "      <td>2.0</td>\n",
              "      <td>-36.847000</td>\n",
              "      <td>0.000000</td>\n",
              "      <td>-36.847000</td>\n",
              "      <td>-36.847000</td>\n",
              "      <td>-36.847000</td>\n",
              "      <td>-36.847000</td>\n",
              "      <td>-36.847000</td>\n",
              "    </tr>\n",
              "    <tr>\n",
              "      <th>PT</th>\n",
              "      <td>67.0</td>\n",
              "      <td>0.582090</td>\n",
              "      <td>0.819262</td>\n",
              "      <td>0.0</td>\n",
              "      <td>0.00</td>\n",
              "      <td>0.0</td>\n",
              "      <td>1.00</td>\n",
              "      <td>4.0</td>\n",
              "      <td>67.0</td>\n",
              "      <td>-9.068312</td>\n",
              "      <td>0.204232</td>\n",
              "      <td>-9.309140</td>\n",
              "      <td>-9.099043</td>\n",
              "      <td>-9.099043</td>\n",
              "      <td>-9.099043</td>\n",
              "      <td>-7.791839</td>\n",
              "      <td>67.0</td>\n",
              "      <td>38.806902</td>\n",
              "      <td>0.413087</td>\n",
              "      <td>38.520957</td>\n",
              "      <td>38.747518</td>\n",
              "      <td>38.747518</td>\n",
              "      <td>38.747518</td>\n",
              "      <td>41.823221</td>\n",
              "    </tr>\n",
              "    <tr>\n",
              "      <th>US</th>\n",
              "      <td>11.0</td>\n",
              "      <td>0.272727</td>\n",
              "      <td>0.646670</td>\n",
              "      <td>0.0</td>\n",
              "      <td>0.00</td>\n",
              "      <td>0.0</td>\n",
              "      <td>0.00</td>\n",
              "      <td>2.0</td>\n",
              "      <td>11.0</td>\n",
              "      <td>-86.054534</td>\n",
              "      <td>13.674294</td>\n",
              "      <td>-118.244500</td>\n",
              "      <td>-86.924581</td>\n",
              "      <td>-80.237185</td>\n",
              "      <td>-80.037056</td>\n",
              "      <td>-72.598119</td>\n",
              "      <td>11.0</td>\n",
              "      <td>34.457433</td>\n",
              "      <td>7.114864</td>\n",
              "      <td>25.775200</td>\n",
              "      <td>26.722843</td>\n",
              "      <td>34.294532</td>\n",
              "      <td>40.323767</td>\n",
              "      <td>44.152532</td>\n",
              "    </tr>\n",
              "    <tr>\n",
              "      <th>VA</th>\n",
              "      <td>1.0</td>\n",
              "      <td>0.000000</td>\n",
              "      <td>NaN</td>\n",
              "      <td>0.0</td>\n",
              "      <td>0.00</td>\n",
              "      <td>0.0</td>\n",
              "      <td>0.00</td>\n",
              "      <td>0.0</td>\n",
              "      <td>1.0</td>\n",
              "      <td>12.457018</td>\n",
              "      <td>NaN</td>\n",
              "      <td>12.457018</td>\n",
              "      <td>12.457018</td>\n",
              "      <td>12.457018</td>\n",
              "      <td>12.457018</td>\n",
              "      <td>12.457018</td>\n",
              "      <td>1.0</td>\n",
              "      <td>41.902473</td>\n",
              "      <td>NaN</td>\n",
              "      <td>41.902473</td>\n",
              "      <td>41.902473</td>\n",
              "      <td>41.902473</td>\n",
              "      <td>41.902473</td>\n",
              "      <td>41.902473</td>\n",
              "    </tr>\n",
              "  </tbody>\n",
              "</table>\n",
              "</div>"
            ],
            "text/plain": [
              "      retweet                      ...  longitude                      \n",
              "        count      mean       std  ...        50%        75%        max\n",
              "sigla                              ...                                 \n",
              "AU        2.0  0.500000  0.707107  ... -37.817565 -37.816962 -37.816360\n",
              "BR      392.0  0.102041  0.397943  ... -21.019905 -10.748788  -1.451100\n",
              "CA        6.0  0.333333  0.816497  ...  43.648000  43.648000  44.232424\n",
              "CH        1.0  0.000000       NaN  ...  46.536070  46.536070  46.536070\n",
              "CN        1.0  0.000000       NaN  ...  35.000000  35.000000  35.000000\n",
              "CW        1.0  0.000000       NaN  ...  12.183333  12.183333  12.183333\n",
              "DO        1.0  0.000000       NaN  ...  18.459688  18.459688  18.459688\n",
              "EC        1.0  0.000000       NaN  ...  -2.198850  -2.198850  -2.198850\n",
              "ES        3.0  0.000000  0.000000  ...  41.155124  41.272262  41.389400\n",
              "FR        2.0  0.000000  0.000000  ...  47.308500  48.082900  48.857300\n",
              "GB        1.0  1.000000       NaN  ...  51.514100  51.514100  51.514100\n",
              "ID        1.0  0.000000       NaN  ...  -7.864919  -7.864919  -7.864919\n",
              "IN        1.0  0.000000       NaN  ...  28.631747  28.631747  28.631747\n",
              "IT        2.0  0.000000  0.000000  ...  43.682150  44.573225  45.464300\n",
              "MX        1.0  0.000000       NaN  ...  19.433873  19.433873  19.433873\n",
              "MZ        1.0  0.000000       NaN  ... -13.125600 -13.125600 -13.125600\n",
              "NL        1.0  0.000000       NaN  ...  52.087400  52.087400  52.087400\n",
              "NZ        2.0  0.000000  0.000000  ... -36.847000 -36.847000 -36.847000\n",
              "PT       67.0  0.582090  0.819262  ...  38.747518  38.747518  41.823221\n",
              "US       11.0  0.272727  0.646670  ...  34.294532  40.323767  44.152532\n",
              "VA        1.0  0.000000       NaN  ...  41.902473  41.902473  41.902473\n",
              "\n",
              "[21 rows x 24 columns]"
            ]
          },
          "metadata": {
            "tags": []
          },
          "execution_count": 123
        }
      ]
    },
    {
      "cell_type": "code",
      "metadata": {
        "id": "6UZWrT672DVg",
        "colab_type": "code",
        "colab": {}
      },
      "source": [
        "agrupado = covid.groupby('sigla')"
      ],
      "execution_count": 124,
      "outputs": []
    },
    {
      "cell_type": "code",
      "metadata": {
        "id": "8Zus8mAV2DX7",
        "colab_type": "code",
        "colab": {
          "base_uri": "https://localhost:8080/",
          "height": 237
        },
        "outputId": "ec9332e4-236b-4ff0-bf7a-773b9c2548c5"
      },
      "source": [
        "agrupado.ngroup()"
      ],
      "execution_count": 125,
      "outputs": [
        {
          "output_type": "execute_result",
          "data": {
            "text/plain": [
              "0       1\n",
              "1       1\n",
              "2      18\n",
              "3       1\n",
              "4       1\n",
              "       ..\n",
              "495     1\n",
              "496     1\n",
              "497     2\n",
              "498     1\n",
              "499    18\n",
              "Length: 500, dtype: int64"
            ]
          },
          "metadata": {
            "tags": []
          },
          "execution_count": 125
        }
      ]
    },
    {
      "cell_type": "code",
      "metadata": {
        "id": "r7ny0wHm2DGV",
        "colab_type": "code",
        "colab": {
          "base_uri": "https://localhost:8080/",
          "height": 274
        },
        "outputId": "15fc6499-327a-4a6e-9030-708b0b36856e"
      },
      "source": [
        "!pip install geopandas\n"
      ],
      "execution_count": 126,
      "outputs": [
        {
          "output_type": "stream",
          "text": [
            "Requirement already satisfied: geopandas in /usr/local/lib/python3.6/dist-packages (0.8.1)\n",
            "Requirement already satisfied: fiona in /usr/local/lib/python3.6/dist-packages (from geopandas) (1.8.17)\n",
            "Requirement already satisfied: pandas>=0.23.0 in /usr/local/lib/python3.6/dist-packages (from geopandas) (1.0.5)\n",
            "Requirement already satisfied: shapely in /usr/local/lib/python3.6/dist-packages (from geopandas) (1.7.1)\n",
            "Requirement already satisfied: pyproj>=2.2.0 in /usr/local/lib/python3.6/dist-packages (from geopandas) (2.6.1.post1)\n",
            "Requirement already satisfied: click<8,>=4.0 in /usr/local/lib/python3.6/dist-packages (from fiona->geopandas) (7.1.2)\n",
            "Requirement already satisfied: click-plugins>=1.0 in /usr/local/lib/python3.6/dist-packages (from fiona->geopandas) (1.1.1)\n",
            "Requirement already satisfied: attrs>=17 in /usr/local/lib/python3.6/dist-packages (from fiona->geopandas) (20.2.0)\n",
            "Requirement already satisfied: six>=1.7 in /usr/local/lib/python3.6/dist-packages (from fiona->geopandas) (1.15.0)\n",
            "Requirement already satisfied: munch in /usr/local/lib/python3.6/dist-packages (from fiona->geopandas) (2.5.0)\n",
            "Requirement already satisfied: cligj>=0.5 in /usr/local/lib/python3.6/dist-packages (from fiona->geopandas) (0.5.0)\n",
            "Requirement already satisfied: numpy>=1.13.3 in /usr/local/lib/python3.6/dist-packages (from pandas>=0.23.0->geopandas) (1.18.5)\n",
            "Requirement already satisfied: pytz>=2017.2 in /usr/local/lib/python3.6/dist-packages (from pandas>=0.23.0->geopandas) (2018.9)\n",
            "Requirement already satisfied: python-dateutil>=2.6.1 in /usr/local/lib/python3.6/dist-packages (from pandas>=0.23.0->geopandas) (2.8.1)\n"
          ],
          "name": "stdout"
        }
      ]
    },
    {
      "cell_type": "code",
      "metadata": {
        "id": "NyUyjTjx3VZ_",
        "colab_type": "code",
        "colab": {}
      },
      "source": [
        "from shapely.geometry import Point\n",
        "import geopandas as gpd\n",
        "from geopandas import GeoDataFrame"
      ],
      "execution_count": 128,
      "outputs": []
    },
    {
      "cell_type": "code",
      "metadata": {
        "id": "-Smzn3Nt3V73",
        "colab_type": "code",
        "colab": {
          "base_uri": "https://localhost:8080/",
          "height": 317
        },
        "outputId": "2c357938-b856-42c5-fe6a-6fc523ce0d69"
      },
      "source": [
        "geometry = [Point(xy) for xy in zip(covid['latitude'], covid['longitude'])]\n",
        "gdf = GeoDataFrame(covid, geometry=geometry)   \n",
        "\n",
        "world = gpd.read_file(gpd.datasets.get_path('naturalearth_lowres'))\n",
        "gdf.plot(ax=world.plot(figsize=(10, 6)), marker='o', color='red', markersize=15);\n"
      ],
      "execution_count": 129,
      "outputs": [
        {
          "output_type": "display_data",
          "data": {
            "image/png": "[encoded data removed]",
            "text/plain": [
              "<Figure size 720x432 with 1 Axes>"
            ]
          },
          "metadata": {
            "tags": [],
            "needs_background": "light"
          }
        }
      ]
    },
    {
      "cell_type": "code",
      "metadata": {
        "id": "iunyhMSz3WAs",
        "colab_type": "code",
        "colab": {
          "base_uri": "https://localhost:8080/",
          "height": 283
        },
        "outputId": "af0fd583-8898-4250-bcb6-31be36425a6e"
      },
      "source": [
        "import matplotlib.pyplot as plt\n",
        "plt.subplots(1,1)\n",
        "covid.pais.hist()"
      ],
      "execution_count": 130,
      "outputs": [
        {
          "output_type": "execute_result",
          "data": {
            "text/plain": [
              "<matplotlib.axes._subplots.AxesSubplot at 0x7fd460f6b588>"
            ]
          },
          "metadata": {
            "tags": []
          },
          "execution_count": 130
        },
        {
          "output_type": "display_data",
          "data": {
            "image/png": "[encoded data removed]",
            "text/plain": [
              "<Figure size 432x288 with 1 Axes>"
            ]
          },
          "metadata": {
            "tags": [],
            "needs_background": "light"
          }
        }
      ]
    }
  ]
}